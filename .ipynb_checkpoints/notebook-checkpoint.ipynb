{
 "cells": [
  {
   "cell_type": "markdown",
   "id": "c17d1221-7ff2-4214-a60a-fbbd765ab2c0",
   "metadata": {},
   "source": [
    "# Supermarket Sales Analysis"
   ]
  },
  {
   "cell_type": "markdown",
   "id": "c06c02c0-90d9-44ad-ba36-09d9da6ae4fc",
   "metadata": {},
   "source": [
    "## Importing Requirements"
   ]
  },
  {
   "cell_type": "code",
   "execution_count": 1,
   "id": "bd5e65fa-1e4b-40ad-807d-ad9ffcc04810",
   "metadata": {
    "tags": []
   },
   "outputs": [],
   "source": [
    "import numpy as np\n",
    "import pandas as pd\n",
    "import math\n",
    "import matplotlib.pyplot as plt"
   ]
  },
  {
   "cell_type": "markdown",
   "id": "0d5eb006-091e-492a-bd70-dbbe4808fcc3",
   "metadata": {},
   "source": [
    "## Viewing the head of the file"
   ]
  },
  {
   "cell_type": "code",
   "execution_count": 2,
   "id": "b49f38f5-d859-4616-b54d-51794ba406d2",
   "metadata": {
    "tags": []
   },
   "outputs": [
    {
     "data": {
      "text/html": [
       "<div>\n",
       "<style scoped>\n",
       "    .dataframe tbody tr th:only-of-type {\n",
       "        vertical-align: middle;\n",
       "    }\n",
       "\n",
       "    .dataframe tbody tr th {\n",
       "        vertical-align: top;\n",
       "    }\n",
       "\n",
       "    .dataframe thead th {\n",
       "        text-align: right;\n",
       "    }\n",
       "</style>\n",
       "<table border=\"1\" class=\"dataframe\">\n",
       "  <thead>\n",
       "    <tr style=\"text-align: right;\">\n",
       "      <th></th>\n",
       "      <th>Invoice ID</th>\n",
       "      <th>Branch</th>\n",
       "      <th>City</th>\n",
       "      <th>Customer type</th>\n",
       "      <th>Gender</th>\n",
       "      <th>Product line</th>\n",
       "      <th>Unit price</th>\n",
       "      <th>Quantity</th>\n",
       "      <th>Tax 5%</th>\n",
       "      <th>Total</th>\n",
       "      <th>Date</th>\n",
       "      <th>Time</th>\n",
       "      <th>Payment</th>\n",
       "      <th>cogs</th>\n",
       "      <th>gross margin percentage</th>\n",
       "      <th>gross income</th>\n",
       "      <th>Rating</th>\n",
       "    </tr>\n",
       "  </thead>\n",
       "  <tbody>\n",
       "    <tr>\n",
       "      <th>0</th>\n",
       "      <td>750-67-8428</td>\n",
       "      <td>A</td>\n",
       "      <td>Yangon</td>\n",
       "      <td>Member</td>\n",
       "      <td>Female</td>\n",
       "      <td>Health and beauty</td>\n",
       "      <td>74.69</td>\n",
       "      <td>7</td>\n",
       "      <td>26.1415</td>\n",
       "      <td>548.9715</td>\n",
       "      <td>1/5/2019</td>\n",
       "      <td>13:08</td>\n",
       "      <td>Ewallet</td>\n",
       "      <td>522.83</td>\n",
       "      <td>4.761905</td>\n",
       "      <td>26.1415</td>\n",
       "      <td>9.1</td>\n",
       "    </tr>\n",
       "    <tr>\n",
       "      <th>1</th>\n",
       "      <td>226-31-3081</td>\n",
       "      <td>C</td>\n",
       "      <td>Naypyitaw</td>\n",
       "      <td>Normal</td>\n",
       "      <td>Female</td>\n",
       "      <td>Electronic accessories</td>\n",
       "      <td>15.28</td>\n",
       "      <td>5</td>\n",
       "      <td>3.8200</td>\n",
       "      <td>80.2200</td>\n",
       "      <td>3/8/2019</td>\n",
       "      <td>10:29</td>\n",
       "      <td>Cash</td>\n",
       "      <td>76.40</td>\n",
       "      <td>4.761905</td>\n",
       "      <td>3.8200</td>\n",
       "      <td>9.6</td>\n",
       "    </tr>\n",
       "    <tr>\n",
       "      <th>2</th>\n",
       "      <td>631-41-3108</td>\n",
       "      <td>A</td>\n",
       "      <td>Yangon</td>\n",
       "      <td>Normal</td>\n",
       "      <td>Male</td>\n",
       "      <td>Home and lifestyle</td>\n",
       "      <td>46.33</td>\n",
       "      <td>7</td>\n",
       "      <td>16.2155</td>\n",
       "      <td>340.5255</td>\n",
       "      <td>3/3/2019</td>\n",
       "      <td>13:23</td>\n",
       "      <td>Credit card</td>\n",
       "      <td>324.31</td>\n",
       "      <td>4.761905</td>\n",
       "      <td>16.2155</td>\n",
       "      <td>7.4</td>\n",
       "    </tr>\n",
       "    <tr>\n",
       "      <th>3</th>\n",
       "      <td>123-19-1176</td>\n",
       "      <td>A</td>\n",
       "      <td>Yangon</td>\n",
       "      <td>Member</td>\n",
       "      <td>Male</td>\n",
       "      <td>Health and beauty</td>\n",
       "      <td>58.22</td>\n",
       "      <td>8</td>\n",
       "      <td>23.2880</td>\n",
       "      <td>489.0480</td>\n",
       "      <td>1/27/2019</td>\n",
       "      <td>20:33</td>\n",
       "      <td>Ewallet</td>\n",
       "      <td>465.76</td>\n",
       "      <td>4.761905</td>\n",
       "      <td>23.2880</td>\n",
       "      <td>8.4</td>\n",
       "    </tr>\n",
       "    <tr>\n",
       "      <th>4</th>\n",
       "      <td>373-73-7910</td>\n",
       "      <td>A</td>\n",
       "      <td>Yangon</td>\n",
       "      <td>Normal</td>\n",
       "      <td>Male</td>\n",
       "      <td>Sports and travel</td>\n",
       "      <td>86.31</td>\n",
       "      <td>7</td>\n",
       "      <td>30.2085</td>\n",
       "      <td>634.3785</td>\n",
       "      <td>2/8/2019</td>\n",
       "      <td>10:37</td>\n",
       "      <td>Ewallet</td>\n",
       "      <td>604.17</td>\n",
       "      <td>4.761905</td>\n",
       "      <td>30.2085</td>\n",
       "      <td>5.3</td>\n",
       "    </tr>\n",
       "  </tbody>\n",
       "</table>\n",
       "</div>"
      ],
      "text/plain": [
       "    Invoice ID Branch       City Customer type  Gender  \\\n",
       "0  750-67-8428      A     Yangon        Member  Female   \n",
       "1  226-31-3081      C  Naypyitaw        Normal  Female   \n",
       "2  631-41-3108      A     Yangon        Normal    Male   \n",
       "3  123-19-1176      A     Yangon        Member    Male   \n",
       "4  373-73-7910      A     Yangon        Normal    Male   \n",
       "\n",
       "             Product line  Unit price  Quantity   Tax 5%     Total       Date  \\\n",
       "0       Health and beauty       74.69         7  26.1415  548.9715   1/5/2019   \n",
       "1  Electronic accessories       15.28         5   3.8200   80.2200   3/8/2019   \n",
       "2      Home and lifestyle       46.33         7  16.2155  340.5255   3/3/2019   \n",
       "3       Health and beauty       58.22         8  23.2880  489.0480  1/27/2019   \n",
       "4       Sports and travel       86.31         7  30.2085  634.3785   2/8/2019   \n",
       "\n",
       "    Time      Payment    cogs  gross margin percentage  gross income  Rating  \n",
       "0  13:08      Ewallet  522.83                 4.761905       26.1415     9.1  \n",
       "1  10:29         Cash   76.40                 4.761905        3.8200     9.6  \n",
       "2  13:23  Credit card  324.31                 4.761905       16.2155     7.4  \n",
       "3  20:33      Ewallet  465.76                 4.761905       23.2880     8.4  \n",
       "4  10:37      Ewallet  604.17                 4.761905       30.2085     5.3  "
      ]
     },
     "execution_count": 2,
     "metadata": {},
     "output_type": "execute_result"
    }
   ],
   "source": [
    "df = pd.read_csv('./supermarket_data.csv')\n",
    "\n",
    "df.head()"
   ]
  },
  {
   "cell_type": "markdown",
   "id": "9d880278-542e-4753-91ec-bba6331d655e",
   "metadata": {},
   "source": [
    "## Describing the columns of the dataset"
   ]
  },
  {
   "cell_type": "markdown",
   "id": "3c76bcd2-2115-4ff8-83fc-9368d10ce554",
   "metadata": {},
   "source": [
    "* Invoice ID => This column has the invoice id\n",
    "* Branch => It has the branch name\n",
    "* City => It has the city which the branch is in\n",
    "* Customer type => It has the type of the customer whether he is a member or a normal customer\n",
    "* Gender => It has the gender of the customer\n",
    "* Product line => It has the category of the product that was sold.\n",
    "* Unit price => It has the price of the item\n",
    "* Quantity => It has the number of items sold\n",
    "* Tax 5% => It has the taxes amount\n",
    "* Total => It has the total price of the invoice\n",
    "* Date => It has the date of the invoice\n",
    "* Time => It has the time of the invoice\n",
    "* Payment => It has the payment method (Cash- Credit card - Ewallet)\n",
    "* cogs => Cost Of Goods Sold\n",
    "* gross margin percentage => It has the gross margin in percetage (%)\n",
    "* gross income => It has the gross income from that invoice\n",
    "* Rating => It has the customer's rating"
   ]
  },
  {
   "cell_type": "markdown",
   "id": "68c298f5-e3cc-444a-9be6-4cdc407b8e9e",
   "metadata": {},
   "source": [
    "## Checking that the DataFrame doesn't have null values"
   ]
  },
  {
   "cell_type": "code",
   "execution_count": 3,
   "id": "b2f89230-1dba-4a3e-bfb9-96ba693aa504",
   "metadata": {
    "tags": []
   },
   "outputs": [
    {
     "name": "stdout",
     "output_type": "stream",
     "text": [
      "<class 'pandas.core.frame.DataFrame'>\n",
      "RangeIndex: 1000 entries, 0 to 999\n",
      "Data columns (total 17 columns):\n",
      " #   Column                   Non-Null Count  Dtype  \n",
      "---  ------                   --------------  -----  \n",
      " 0   Invoice ID               1000 non-null   object \n",
      " 1   Branch                   1000 non-null   object \n",
      " 2   City                     1000 non-null   object \n",
      " 3   Customer type            1000 non-null   object \n",
      " 4   Gender                   1000 non-null   object \n",
      " 5   Product line             1000 non-null   object \n",
      " 6   Unit price               1000 non-null   float64\n",
      " 7   Quantity                 1000 non-null   int64  \n",
      " 8   Tax 5%                   1000 non-null   float64\n",
      " 9   Total                    1000 non-null   float64\n",
      " 10  Date                     1000 non-null   object \n",
      " 11  Time                     1000 non-null   object \n",
      " 12  Payment                  1000 non-null   object \n",
      " 13  cogs                     1000 non-null   float64\n",
      " 14  gross margin percentage  1000 non-null   float64\n",
      " 15  gross income             1000 non-null   float64\n",
      " 16  Rating                   1000 non-null   float64\n",
      "dtypes: float64(7), int64(1), object(9)\n",
      "memory usage: 132.9+ KB\n"
     ]
    }
   ],
   "source": [
    "df.info()"
   ]
  },
  {
   "cell_type": "markdown",
   "id": "b7b79e26-6b11-453c-bb63-937cb669a8f3",
   "metadata": {},
   "source": [
    "#### Since all columns have 1000 not-null then there are no null values"
   ]
  },
  {
   "cell_type": "markdown",
   "id": "9d167439-10cc-4ecc-97e8-41a90cc1c671",
   "metadata": {},
   "source": [
    "## The questions we want to solve?"
   ]
  },
  {
   "cell_type": "markdown",
   "id": "15745c9c-445b-4374-88e4-7d04062ada86",
   "metadata": {},
   "source": [
    "1- Which is the most selling branch?  \n",
    "2- What city has the most sales?  \n",
    "3- What is the most buying customer type?  \n",
    "4- What is the most buying gender?  \n",
    "5- What types of products each gender buy and how many times they bought it?  \n",
    "6- What is the most selling product line?  \n",
    "7- How much is the total gross income for each product line?  \n",
    "8- The number of units sold in each product line   \n",
    "9- The total taxes that the supermarket needs to pay to government  \n",
    "10- What is the most used payment method?  \n",
    "11- The total cogs that we spent  \n",
    "12- The total gross income we earned  \n",
    "13- The average customer rating"
   ]
  },
  {
   "cell_type": "markdown",
   "id": "be75ab43-7064-4209-abcc-51809e207074",
   "metadata": {},
   "source": [
    "## 1- Which is the most selling branch?"
   ]
  },
  {
   "cell_type": "markdown",
   "id": "d9202254-f8f6-4b96-aa9a-3accc83c9610",
   "metadata": {},
   "source": [
    "### Knowing what branches exist in the dataset"
   ]
  },
  {
   "cell_type": "code",
   "execution_count": 4,
   "id": "d59f0d73-aad1-4210-b27c-f960d795eddd",
   "metadata": {
    "tags": []
   },
   "outputs": [
    {
     "data": {
      "text/plain": [
       "array(['A', 'C', 'B'], dtype=object)"
      ]
     },
     "execution_count": 4,
     "metadata": {},
     "output_type": "execute_result"
    }
   ],
   "source": [
    "df.Branch.unique()"
   ]
  },
  {
   "cell_type": "markdown",
   "id": "08ebe049-b6f3-4d2e-9227-298a1daf4770",
   "metadata": {},
   "source": [
    "**So this supermarket has three branches:**  \n",
    "* A\n",
    "* B\n",
    "* C"
   ]
  },
  {
   "cell_type": "markdown",
   "id": "e7f02058-24d9-4dfd-9c8c-60c907464bf4",
   "metadata": {},
   "source": [
    "### Finding out how many times each branch sold"
   ]
  },
  {
   "cell_type": "code",
   "execution_count": 5,
   "id": "cf875d35-7fbe-4fa8-818d-3887ad9ddc88",
   "metadata": {
    "tags": []
   },
   "outputs": [
    {
     "data": {
      "text/plain": [
       "A    340\n",
       "B    332\n",
       "C    328\n",
       "Name: Branch, dtype: int64"
      ]
     },
     "execution_count": 5,
     "metadata": {},
     "output_type": "execute_result"
    }
   ],
   "source": [
    "df.Branch.value_counts()"
   ]
  },
  {
   "cell_type": "markdown",
   "id": "a173ff5b-e3d4-4f4a-a044-f57b39ee3cac",
   "metadata": {},
   "source": [
    "**From the previous result we found out that:**\n",
    "* Branch \"A\" is the most selling branch. It made 340 invoices.\n",
    "* Branch \"B\" is in the second place. It made 332 invoices.\n",
    "* Branch \"C\" is in the third place. It made 328 invoices."
   ]
  },
  {
   "cell_type": "markdown",
   "id": "70561db8-bbb6-44f1-a8af-fb6c967cbfc4",
   "metadata": {},
   "source": [
    "## 2- What city has the most sales?"
   ]
  },
  {
   "cell_type": "markdown",
   "id": "5c06987e-9f1c-49b9-9c60-1db14747a1de",
   "metadata": {},
   "source": [
    "### Knowing what cities we are in"
   ]
  },
  {
   "cell_type": "code",
   "execution_count": 6,
   "id": "d54f1b89-4c44-4ac2-be28-689cbad78f70",
   "metadata": {
    "tags": []
   },
   "outputs": [
    {
     "data": {
      "text/plain": [
       "array(['Yangon', 'Naypyitaw', 'Mandalay'], dtype=object)"
      ]
     },
     "execution_count": 6,
     "metadata": {},
     "output_type": "execute_result"
    }
   ],
   "source": [
    "df.City.unique()"
   ]
  },
  {
   "cell_type": "markdown",
   "id": "381e86ec-c459-4400-af89-90dac09138a7",
   "metadata": {},
   "source": [
    "**So we found out that we exist in three cities:**\n",
    "* Yangon\n",
    "* Naypyitaw\n",
    "* Mandalay"
   ]
  },
  {
   "cell_type": "markdown",
   "id": "b08a0dfc-7ad1-4190-b65f-d0a45005abc5",
   "metadata": {},
   "source": [
    "### Finding out how many invoices were made in each city"
   ]
  },
  {
   "cell_type": "code",
   "execution_count": 7,
   "id": "a928ef7c-648b-4617-a0c8-bbb246cb437f",
   "metadata": {
    "tags": []
   },
   "outputs": [
    {
     "data": {
      "text/plain": [
       "Yangon       340\n",
       "Mandalay     332\n",
       "Naypyitaw    328\n",
       "Name: City, dtype: int64"
      ]
     },
     "execution_count": 7,
     "metadata": {},
     "output_type": "execute_result"
    }
   ],
   "source": [
    "df.City.value_counts()"
   ]
  },
  {
   "cell_type": "markdown",
   "id": "03acd86e-7660-4d1b-af2d-36c48f60e720",
   "metadata": {},
   "source": [
    "**From the previous result, We found that:**\n",
    "* Yangon is the most selling city. It made 340 invoices.\n",
    "* Mandalay is in the second place. It made 332 invoices.\n",
    "* Naypyitaw is in the third place. It made 328 invoices."
   ]
  },
  {
   "cell_type": "markdown",
   "id": "d1aa3f13-1c05-4cea-bb8c-9f8789eed0e6",
   "metadata": {},
   "source": [
    "### Visualization"
   ]
  },
  {
   "cell_type": "markdown",
   "id": "01beefa0-bb15-4a31-9cfb-c5bc03a19647",
   "metadata": {},
   "source": [
    "**Visualizing the number of invoices made in each city**"
   ]
  },
  {
   "cell_type": "code",
   "execution_count": 42,
   "id": "e19eb1e6-acab-4156-b2ed-142502af7907",
   "metadata": {
    "tags": []
   },
   "outputs": [
    {
     "data": {
      "text/plain": [
       "<Figure size 900x800 with 0 Axes>"
      ]
     },
     "metadata": {},
     "output_type": "display_data"
    }
   ],
   "source": [
    "data_for_cities_fig = {\n",
    "    'Health and beauty': 2342,\n",
    "    'Electronic accessories': 2587,\n",
    "    'Home and lifestyle': 2564,\n",
    "    'Sports and travel': 2624,\n",
    "    'Food and beverages': 2673,\n",
    "    'Fashion accessories': 2585\n",
    "}\n",
    "\n",
    "fig_cities_x = list(data_for_cities_fig.keys())\n",
    "fig_cities_y = list(data_for_cities_fig.values())\n",
    "\n",
    "# Creating a new figure\n",
    "\n",
    "fig1 = plt.figure(figsize = (9,8))"
   ]
  },
  {
   "cell_type": "code",
   "execution_count": 44,
   "id": "a1eca1c6-f808-4081-b5ed-2fafb4a2048e",
   "metadata": {
    "tags": []
   },
   "outputs": [
    {
     "data": {
      "text/plain": [
       "Text(0.5, 1.05, 'Gross income generated by each product line')"
      ]
     },
     "execution_count": 44,
     "metadata": {},
     "output_type": "execute_result"
    },
    {
     "data": {
      "image/png": "[encoded data removed]",
      "text/plain": [
       "<Figure size 640x480 with 1 Axes>"
      ]
     },
     "metadata": {},
     "output_type": "display_data"
    }
   ],
   "source": [
    "plt.bar(fig_cities_x, fig_cities_y, color = '#408E91', width = 0.4)\n",
    "plt.tick_params(axis = 'x', labelrotation = 90)\n",
    "plt.title(\"Gross income generated by each product line\", y=1.05)"
   ]
  },
  {
   "cell_type": "markdown",
   "id": "ee12747f-bb71-4829-9b6b-3a59953ccf4d",
   "metadata": {},
   "source": [
    "## 3- What is the most buying customer type?"
   ]
  },
  {
   "cell_type": "markdown",
   "id": "9fa2ffbf-4af5-4ad0-9a35-97373c248131",
   "metadata": {},
   "source": [
    "### Fidning out what customer types does the supermarket have?"
   ]
  },
  {
   "cell_type": "code",
   "execution_count": 8,
   "id": "476bf472-680a-48e9-be43-38899b729bb0",
   "metadata": {
    "tags": []
   },
   "outputs": [
    {
     "data": {
      "text/plain": [
       "array(['Member', 'Normal'], dtype=object)"
      ]
     },
     "execution_count": 8,
     "metadata": {},
     "output_type": "execute_result"
    }
   ],
   "source": [
    "df['Customer type'].unique()"
   ]
  },
  {
   "cell_type": "markdown",
   "id": "0b176096-f735-403a-9327-6a75c0582c34",
   "metadata": {},
   "source": [
    "**So our buyers are divided in two types:**\n",
    "* They can be members. or\n",
    "* They can be normal customers."
   ]
  },
  {
   "cell_type": "markdown",
   "id": "26e8c01b-85e2-4e3e-b4ee-8a448a5dd73e",
   "metadata": {},
   "source": [
    "### Finding out how many times each customer type bought?"
   ]
  },
  {
   "cell_type": "code",
   "execution_count": 9,
   "id": "471f68c7-a2f6-48d6-8026-641f4e41c6a3",
   "metadata": {
    "tags": []
   },
   "outputs": [
    {
     "data": {
      "text/plain": [
       "Member    501\n",
       "Normal    499\n",
       "Name: Customer type, dtype: int64"
      ]
     },
     "execution_count": 9,
     "metadata": {},
     "output_type": "execute_result"
    }
   ],
   "source": [
    "df['Customer type'].value_counts()"
   ]
  },
  {
   "cell_type": "markdown",
   "id": "a0d01d01-7109-4012-bac8-e34ff37019c7",
   "metadata": {},
   "source": [
    "**The result says that:**\n",
    "* Members are buying from us more than normal customers. They bought 501 times. \n",
    "* Normal customers bought 499 times.  \n",
    "\n",
    "**It's not a big difference, So In my opinion, We shouldn't do any thing.**"
   ]
  },
  {
   "cell_type": "markdown",
   "id": "c123aa2f-47db-4e23-b8ab-9b7e15e69403",
   "metadata": {},
   "source": [
    "## 4- What is the most buying gender?"
   ]
  },
  {
   "cell_type": "markdown",
   "id": "ce4a91ea-e63b-4fdc-a95e-31321f5860c9",
   "metadata": {},
   "source": [
    "### Finding out what genders buy from us"
   ]
  },
  {
   "cell_type": "code",
   "execution_count": 10,
   "id": "a7cc72a5-e742-42c7-a670-18bbe210d13b",
   "metadata": {
    "tags": []
   },
   "outputs": [
    {
     "data": {
      "text/plain": [
       "array(['Female', 'Male'], dtype=object)"
      ]
     },
     "execution_count": 10,
     "metadata": {},
     "output_type": "execute_result"
    }
   ],
   "source": [
    "df.Gender.unique()"
   ]
  },
  {
   "cell_type": "markdown",
   "id": "2da7ea3d-5a24-4ab0-bc43-42fb2c56c5e8",
   "metadata": {},
   "source": [
    "**So Both genders are buying from us.**"
   ]
  },
  {
   "cell_type": "markdown",
   "id": "34ecb672-3b45-437e-9ea1-aed6e0dcbad8",
   "metadata": {},
   "source": [
    "### Finding out how many times each gender bought?"
   ]
  },
  {
   "cell_type": "code",
   "execution_count": 11,
   "id": "a44a8531-59ed-4bbf-9313-4b5b7f4991fa",
   "metadata": {
    "tags": []
   },
   "outputs": [
    {
     "data": {
      "text/plain": [
       "Female    501\n",
       "Male      499\n",
       "Name: Gender, dtype: int64"
      ]
     },
     "execution_count": 11,
     "metadata": {},
     "output_type": "execute_result"
    }
   ],
   "source": [
    "df.Gender.value_counts()"
   ]
  },
  {
   "cell_type": "markdown",
   "id": "b8e4a40c-78e1-4dcd-b89a-e8f8f77eee25",
   "metadata": {},
   "source": [
    "#### From the previous result, we found that:\n",
    "* Females bought more than males. They bought 501 times.\n",
    "* Males bought 499 times.  \n",
    "\n",
    "**It is not a big difference so we don't have to do anything about that**"
   ]
  },
  {
   "cell_type": "markdown",
   "id": "a7279f93-36f0-4d18-ace3-ca150f246e61",
   "metadata": {},
   "source": [
    "## 5- What types of products each gender buy and how many times they bought it?  "
   ]
  },
  {
   "cell_type": "markdown",
   "id": "5784095c-a7d8-4e7e-930d-b76030372f36",
   "metadata": {
    "tags": []
   },
   "source": [
    "### Analyzing Females Data"
   ]
  },
  {
   "cell_type": "markdown",
   "id": "0d69b103-d058-403a-a9e1-8f2cf6ba87c2",
   "metadata": {},
   "source": [
    "#### Filtering the product line table so it only has the records that females bought"
   ]
  },
  {
   "cell_type": "code",
   "execution_count": 12,
   "id": "3c3416a9-16dd-42ad-9546-ca17be78252f",
   "metadata": {
    "tags": []
   },
   "outputs": [
    {
     "data": {
      "text/plain": [
       "0           Health and beauty\n",
       "1      Electronic accessories\n",
       "6      Electronic accessories\n",
       "7          Home and lifestyle\n",
       "8           Health and beauty\n",
       "                ...          \n",
       "990        Food and beverages\n",
       "991         Sports and travel\n",
       "994    Electronic accessories\n",
       "996        Home and lifestyle\n",
       "999       Fashion accessories\n",
       "Name: Product line, Length: 501, dtype: object"
      ]
     },
     "execution_count": 12,
     "metadata": {},
     "output_type": "execute_result"
    }
   ],
   "source": [
    "females = df.query('Gender==\"Female\"')['Product line']\n",
    "\n",
    "females"
   ]
  },
  {
   "cell_type": "markdown",
   "id": "0f9b02eb-ed38-406d-9399-052c34294901",
   "metadata": {},
   "source": [
    "#### Knowing what product lines females buy"
   ]
  },
  {
   "cell_type": "code",
   "execution_count": 13,
   "id": "e8c7ed19-cb8e-45f6-a869-3543e72d6562",
   "metadata": {
    "tags": []
   },
   "outputs": [
    {
     "name": "stdout",
     "output_type": "stream",
     "text": [
      "['Health and beauty' 'Electronic accessories' 'Home and lifestyle'\n",
      " 'Food and beverages' 'Fashion accessories' 'Sports and travel']\n"
     ]
    }
   ],
   "source": [
    "print(females.unique())"
   ]
  },
  {
   "cell_type": "markdown",
   "id": "508201ee-ba14-4ee0-9a20-661c76fa2f69",
   "metadata": {},
   "source": [
    "**Females buys these product lines**"
   ]
  },
  {
   "cell_type": "markdown",
   "id": "032402be-bf82-4d72-af67-e2a2c293f545",
   "metadata": {},
   "source": [
    "* Health and beauty\n",
    "* Electronic accessories\n",
    "* Home and lifestyle\n",
    "* Food and beverages\n",
    "* Fashion accessories\n",
    "* Sports and travel"
   ]
  },
  {
   "cell_type": "markdown",
   "id": "203ea47e-bc61-4779-8d11-d2dc17910ea9",
   "metadata": {},
   "source": [
    "#### Knowing how many times females bought each product line"
   ]
  },
  {
   "cell_type": "code",
   "execution_count": 14,
   "id": "8c42a8d3-bd7f-4c0a-81c8-877485368788",
   "metadata": {
    "tags": []
   },
   "outputs": [
    {
     "data": {
      "text/plain": [
       "Fashion accessories       96\n",
       "Food and beverages        90\n",
       "Sports and travel         88\n",
       "Electronic accessories    84\n",
       "Home and lifestyle        79\n",
       "Health and beauty         64\n",
       "Name: Product line, dtype: int64"
      ]
     },
     "execution_count": 14,
     "metadata": {},
     "output_type": "execute_result"
    }
   ],
   "source": [
    "females.value_counts()"
   ]
  },
  {
   "cell_type": "markdown",
   "id": "9c5583f8-6e5c-426c-9c21-9d9ad40b6b9c",
   "metadata": {},
   "source": [
    "**From the previous output we found that:**\n",
    "* Fashion accessories is the most product line that females buy. They bought it 96 times.\n",
    "* Females bought food and beverages 90 times.\n",
    "* Females bought sports and travel 88 times.\n",
    "* Females bought electronic accessories 84 times.\n",
    "* Females bought home and lifestyle 79 times\n",
    "* Females bought Health and beauty 64 times."
   ]
  },
  {
   "cell_type": "markdown",
   "id": "f6823a61-5413-41b3-bf0b-e923040c364e",
   "metadata": {},
   "source": [
    "### Analyzing males data"
   ]
  },
  {
   "cell_type": "markdown",
   "id": "8ec80022-c3c1-4793-ad05-d098fb86c8d9",
   "metadata": {},
   "source": [
    "#### Filtering the product line table so it only has the records that females bought"
   ]
  },
  {
   "cell_type": "code",
   "execution_count": 15,
   "id": "06325a27-2c75-42c7-8f6b-c781570c768b",
   "metadata": {
    "tags": []
   },
   "outputs": [
    {
     "data": {
      "text/plain": [
       "2          Home and lifestyle\n",
       "3           Health and beauty\n",
       "4           Sports and travel\n",
       "5      Electronic accessories\n",
       "11     Electronic accessories\n",
       "                ...          \n",
       "992    Electronic accessories\n",
       "993       Fashion accessories\n",
       "995         Health and beauty\n",
       "997        Food and beverages\n",
       "998        Home and lifestyle\n",
       "Name: Product line, Length: 499, dtype: object"
      ]
     },
     "execution_count": 15,
     "metadata": {},
     "output_type": "execute_result"
    }
   ],
   "source": [
    "males = df.query('Gender==\"Male\"')['Product line']\n",
    "\n",
    "males"
   ]
  },
  {
   "cell_type": "markdown",
   "id": "266286fe-09e6-4431-b933-ac6dccab9680",
   "metadata": {},
   "source": [
    "#### Knowing what product lines males buy"
   ]
  },
  {
   "cell_type": "code",
   "execution_count": 16,
   "id": "aa06b8da-aac9-4581-a6b0-c9e7b0b19c63",
   "metadata": {
    "tags": []
   },
   "outputs": [
    {
     "data": {
      "text/plain": [
       "array(['Home and lifestyle', 'Health and beauty', 'Sports and travel',\n",
       "       'Electronic accessories', 'Food and beverages',\n",
       "       'Fashion accessories'], dtype=object)"
      ]
     },
     "execution_count": 16,
     "metadata": {},
     "output_type": "execute_result"
    }
   ],
   "source": [
    "males.unique()"
   ]
  },
  {
   "cell_type": "markdown",
   "id": "f5c06d6c-9e0d-4db2-b93b-aa514cb3ff7e",
   "metadata": {},
   "source": [
    "**Males buy these product lines:**\n",
    "* Home and lifestyle\n",
    "* Health anf beauty\n",
    "* Sports and travel\n",
    "* Electronic accessories\n",
    "* Food and beverages\n",
    "* Fashion accessories"
   ]
  },
  {
   "cell_type": "markdown",
   "id": "f9d63f9a-4726-4f7f-a018-2c31772e5999",
   "metadata": {},
   "source": [
    "#### Knowing how many times males bought each product line"
   ]
  },
  {
   "cell_type": "code",
   "execution_count": 17,
   "id": "3f7fb555-8309-4fbe-ade6-1308cd56e738",
   "metadata": {
    "tags": []
   },
   "outputs": [
    {
     "data": {
      "text/plain": [
       "Health and beauty         88\n",
       "Electronic accessories    86\n",
       "Food and beverages        84\n",
       "Fashion accessories       82\n",
       "Home and lifestyle        81\n",
       "Sports and travel         78\n",
       "Name: Product line, dtype: int64"
      ]
     },
     "execution_count": 17,
     "metadata": {},
     "output_type": "execute_result"
    }
   ],
   "source": [
    "males.value_counts()"
   ]
  },
  {
   "cell_type": "markdown",
   "id": "09fc0569-47c0-4295-806f-36a983c6e450",
   "metadata": {},
   "source": [
    "**From the previous result we found that:**\n",
    "* Health and beauty is the most product line that males bought. They bought it 88 times.\n",
    "* Males bought electronic accessories 86 times.\n",
    "* Males bought food and beverages 84 times.\n",
    "* Males bought fashion accessories 82 times.\n",
    "* Males bought home and lifestyle 81 times.\n",
    "* Males bought sports and travel 78 times."
   ]
  },
  {
   "cell_type": "markdown",
   "id": "856ec20f-08f4-4b7f-a24a-4a4589ddbb43",
   "metadata": {},
   "source": [
    "## 6- What is the most selling product line?"
   ]
  },
  {
   "cell_type": "markdown",
   "id": "614fcc07-8f0d-496c-986d-a79e209e3982",
   "metadata": {},
   "source": [
    "### Finding out what product lines do we have"
   ]
  },
  {
   "cell_type": "code",
   "execution_count": 18,
   "id": "31a9a7e4-ec08-4333-847a-fb7c101cacb2",
   "metadata": {
    "tags": []
   },
   "outputs": [
    {
     "data": {
      "text/plain": [
       "array(['Health and beauty', 'Electronic accessories',\n",
       "       'Home and lifestyle', 'Sports and travel', 'Food and beverages',\n",
       "       'Fashion accessories'], dtype=object)"
      ]
     },
     "execution_count": 18,
     "metadata": {},
     "output_type": "execute_result"
    }
   ],
   "source": [
    "df['Product line'].unique()"
   ]
  },
  {
   "cell_type": "markdown",
   "id": "807e4b0a-aae6-453b-a0a8-3056f0a95e42",
   "metadata": {},
   "source": [
    "#### We have 6 product lines in the supermarket:\n",
    "* Health and beauty\n",
    "* Electronic accessories\n",
    "* Home and lifestyle\n",
    "* Sports and travel\n",
    "* Food and beverages\n",
    "* Fashion accessories"
   ]
  },
  {
   "cell_type": "markdown",
   "id": "8dcf16f7-ec98-455e-8ad3-9fde57a6f149",
   "metadata": {},
   "source": [
    "### Finding how much each product line sells"
   ]
  },
  {
   "cell_type": "code",
   "execution_count": 19,
   "id": "7ba86159-24d9-4db7-a3d0-fba3c582f9a9",
   "metadata": {
    "tags": []
   },
   "outputs": [
    {
     "data": {
      "text/plain": [
       "Fashion accessories       178\n",
       "Food and beverages        174\n",
       "Electronic accessories    170\n",
       "Sports and travel         166\n",
       "Home and lifestyle        160\n",
       "Health and beauty         152\n",
       "Name: Product line, dtype: int64"
      ]
     },
     "execution_count": 19,
     "metadata": {},
     "output_type": "execute_result"
    }
   ],
   "source": [
    "df['Product line'].value_counts()"
   ]
  },
  {
   "cell_type": "markdown",
   "id": "49438924-323a-446f-bc05-27b022dd9db6",
   "metadata": {
    "tags": []
   },
   "source": [
    "#### From the previous output we find that:\n",
    "* Fashion accessories is the most selling product line. It was sold 178 times.\n",
    "* Food and beverages were sold 174 times.\n",
    "* Electronic accessories were sold 170 times.\n",
    "* Sports and travel were sold 166 times.\n",
    "* Home and lifestyle were sold 160 times.\n",
    "* Health and beauty were sold 152 times."
   ]
  },
  {
   "cell_type": "markdown",
   "id": "19efd3c1-3b6f-4745-aee0-e9968dd5e607",
   "metadata": {},
   "source": [
    "## 7- How much is the total gross income for each product line?"
   ]
  },
  {
   "cell_type": "markdown",
   "id": "bd56b9be-14ad-45c1-8eae-e909112e05c4",
   "metadata": {},
   "source": [
    "### Health and beauty"
   ]
  },
  {
   "cell_type": "code",
   "execution_count": 20,
   "id": "20409758-a839-4f5f-816d-e1981fd5db73",
   "metadata": {
    "tags": []
   },
   "outputs": [
    {
     "data": {
      "text/plain": [
       "2342.5589999999993"
      ]
     },
     "execution_count": 20,
     "metadata": {},
     "output_type": "execute_result"
    }
   ],
   "source": [
    "health_and_beauty_income = sum(df['gross income'][df['Product line'] == 'Health and beauty'])\n",
    "\n",
    "health_and_beauty_income"
   ]
  },
  {
   "cell_type": "markdown",
   "id": "1a425437-7bb9-419f-b29d-9fe6c57bce1f",
   "metadata": {},
   "source": [
    "**From the previous output we found that the health and beauty product line generated about $2342 as a gross income**"
   ]
  },
  {
   "cell_type": "markdown",
   "id": "f0f313ea-396a-47aa-ba89-5311e1cc4fda",
   "metadata": {},
   "source": [
    "### Electronic accessories"
   ]
  },
  {
   "cell_type": "code",
   "execution_count": 21,
   "id": "c4a3b5f3-e9b4-4e61-8c46-8fc3a05db7ae",
   "metadata": {
    "tags": []
   },
   "outputs": [
    {
     "data": {
      "text/plain": [
       "2587.5015000000017"
      ]
     },
     "execution_count": 21,
     "metadata": {},
     "output_type": "execute_result"
    }
   ],
   "source": [
    "electronic_accessories_income = sum(df['gross income'][df['Product line'] == 'Electronic accessories'])\n",
    "\n",
    "electronic_accessories_income"
   ]
  },
  {
   "cell_type": "markdown",
   "id": "6fb31964-b2e8-41e3-a8ca-7daf89076dd3",
   "metadata": {},
   "source": [
    "**From the previous output we found that the electronic accessories product line generated about $2587 as a gross income**"
   ]
  },
  {
   "cell_type": "markdown",
   "id": "267353e6-6371-4565-8b5e-565994662051",
   "metadata": {},
   "source": [
    "### Home and lifestyle"
   ]
  },
  {
   "cell_type": "code",
   "execution_count": 22,
   "id": "5ab676eb-f4a7-4bce-bb65-f79a10044a7d",
   "metadata": {
    "tags": []
   },
   "outputs": [
    {
     "data": {
      "text/plain": [
       "2564.853000000002"
      ]
     },
     "execution_count": 22,
     "metadata": {},
     "output_type": "execute_result"
    }
   ],
   "source": [
    "home_and_lifestyle_income = sum(df['gross income'][df['Product line'] == 'Home and lifestyle'])\n",
    "\n",
    "home_and_lifestyle_income"
   ]
  },
  {
   "cell_type": "markdown",
   "id": "2d8e8451-e4c3-4b6b-ac3e-9aa483220f22",
   "metadata": {},
   "source": [
    "**From the previous output we found that the home and lifestyle product line generared about $2564 as a gross income**"
   ]
  },
  {
   "cell_type": "markdown",
   "id": "ef422fd6-3fbc-4533-8478-e6994d3413d7",
   "metadata": {},
   "source": [
    "### Sports and travel"
   ]
  },
  {
   "cell_type": "code",
   "execution_count": 23,
   "id": "213a1c08-b44c-4910-baf6-c6d91d028b0a",
   "metadata": {
    "tags": []
   },
   "outputs": [
    {
     "data": {
      "text/plain": [
       "2624.8964999999994"
      ]
     },
     "execution_count": 23,
     "metadata": {},
     "output_type": "execute_result"
    }
   ],
   "source": [
    "sports_and_travel_income = sum(df['gross income'][df['Product line'] == 'Sports and travel'])\n",
    "\n",
    "sports_and_travel_income"
   ]
  },
  {
   "cell_type": "markdown",
   "id": "0ec71f86-e3b1-4d68-81ea-66de6f67b56c",
   "metadata": {},
   "source": [
    "**From the previous output we found that the sports and travel product line generated about $2624 as a gross income**"
   ]
  },
  {
   "cell_type": "markdown",
   "id": "80678e88-4043-4180-8a5b-bc66b15d489c",
   "metadata": {},
   "source": [
    "### Food and beverages"
   ]
  },
  {
   "cell_type": "code",
   "execution_count": 24,
   "id": "cd6019de-f35c-4052-93ef-0606875f16f0",
   "metadata": {
    "tags": []
   },
   "outputs": [
    {
     "data": {
      "text/plain": [
       "2673.5639999999994"
      ]
     },
     "execution_count": 24,
     "metadata": {},
     "output_type": "execute_result"
    }
   ],
   "source": [
    "food_income = sum(df['gross income'][df['Product line'] == 'Food and beverages'])\n",
    "\n",
    "food_income"
   ]
  },
  {
   "cell_type": "markdown",
   "id": "e38f53c5-fbbc-48da-a4ac-9260521a41cd",
   "metadata": {},
   "source": [
    "**From the previous output we found that the food and beverages product line generated $2673 as a gross income**"
   ]
  },
  {
   "cell_type": "markdown",
   "id": "4eb37f77-60e2-444b-8388-2360ddd624e1",
   "metadata": {},
   "source": [
    "### Fashion accessories"
   ]
  },
  {
   "cell_type": "code",
   "execution_count": 25,
   "id": "6a5db116-efb4-48d2-bcdd-f41465b0da0d",
   "metadata": {
    "tags": []
   },
   "outputs": [
    {
     "data": {
      "text/plain": [
       "2585.995"
      ]
     },
     "execution_count": 25,
     "metadata": {},
     "output_type": "execute_result"
    }
   ],
   "source": [
    "fashion_income = sum(df['gross income'][df['Product line'] == 'Fashion accessories'])\n",
    "\n",
    "fashion_income"
   ]
  },
  {
   "cell_type": "markdown",
   "id": "4e573f98-5e14-46a4-8d64-680ebccebe1b",
   "metadata": {},
   "source": [
    "**From the previous output we found that the fashion accessories product line generated $2585 as a gross income**"
   ]
  },
  {
   "cell_type": "markdown",
   "id": "0cf51d6c-986d-44cb-8e9c-ede26c606a3c",
   "metadata": {},
   "source": [
    "**From the following analysis we found that the food and beverages generated the biggest gross income**"
   ]
  },
  {
   "cell_type": "markdown",
   "id": "9fd6fbff-5b64-4bed-9a10-def4b5211027",
   "metadata": {},
   "source": [
    "### Visualization"
   ]
  },
  {
   "cell_type": "markdown",
   "id": "512d9968-910d-4c15-99b6-2a1f373bb7f9",
   "metadata": {},
   "source": [
    "#### Creating the plot resources"
   ]
  },
  {
   "cell_type": "code",
   "execution_count": 36,
   "id": "2c988101-1648-4e0f-b764-d51c95efe601",
   "metadata": {
    "tags": []
   },
   "outputs": [
    {
     "data": {
      "text/plain": [
       "<Figure size 900x800 with 0 Axes>"
      ]
     },
     "metadata": {},
     "output_type": "display_data"
    }
   ],
   "source": [
    "data_for_fig1 = {\n",
    "    'Health and beauty': 2342,\n",
    "    'Electronic accessories': 2587,\n",
    "    'Home and lifestyle': 2564,\n",
    "    'Sports and travel': 2624,\n",
    "    'Food and beverages': 2673,\n",
    "    'Fashion accessories': 2585\n",
    "}\n",
    "\n",
    "fig1_x = list(data_for_fig1.keys())\n",
    "fig1_y = list(data_for_fig1.values())\n",
    "\n",
    "# Creating a new figure\n",
    "\n",
    "fig1 = plt.figure(figsize = (9,8))\n"
   ]
  },
  {
   "cell_type": "markdown",
   "id": "95193ae0-9206-401f-abfc-8ac3f5d11bd6",
   "metadata": {},
   "source": [
    "#### Creating the bar plot"
   ]
  },
  {
   "cell_type": "code",
   "execution_count": 37,
   "id": "53d8ad4f-29e4-40f0-89b7-5405bd43752f",
   "metadata": {
    "tags": []
   },
   "outputs": [
    {
     "data": {
      "text/plain": [
       "Text(0.5, 1.05, 'Gross income generated by each product line')"
      ]
     },
     "execution_count": 37,
     "metadata": {},
     "output_type": "execute_result"
    },
    {
     "data": {
      "image/png": "[encoded data removed]",
      "text/plain": [
       "<Figure size 640x480 with 1 Axes>"
      ]
     },
     "metadata": {},
     "output_type": "display_data"
    }
   ],
   "source": [
    "plt.bar(fig1_x, fig1_y, color = '#FF6D60', width = 0.4)\n",
    "plt.tick_params(axis = 'x', labelrotation = 90)\n",
    "plt.title(\"Gross income generated by each product line\", y=1.05)"
   ]
  },
  {
   "cell_type": "markdown",
   "id": "8fd15eb2-27c9-481b-aafe-6ed52e8ab653",
   "metadata": {},
   "source": [
    "## 8- The number of units sold in each product line"
   ]
  },
  {
   "cell_type": "markdown",
   "id": "90e5d268-cf57-4787-ac2d-0ad6c836ea11",
   "metadata": {},
   "source": [
    "### Health and beauty"
   ]
  },
  {
   "cell_type": "code",
   "execution_count": 28,
   "id": "bb0c5159-01fb-4038-a06b-d78869104e42",
   "metadata": {
    "tags": []
   },
   "outputs": [
    {
     "data": {
      "text/plain": [
       "854"
      ]
     },
     "execution_count": 28,
     "metadata": {},
     "output_type": "execute_result"
    }
   ],
   "source": [
    "health_and_beauty_units = sum(df['Quantity'][df['Product line'] == 'Health and beauty'])\n",
    "\n",
    "health_and_beauty_units"
   ]
  },
  {
   "cell_type": "markdown",
   "id": "1ad26847-cbe9-4e40-a3d5-be07ebbdc7fb",
   "metadata": {},
   "source": [
    "#### We sold 854 units in the health and beauty product line"
   ]
  },
  {
   "cell_type": "markdown",
   "id": "d40976c9-7e33-4f85-9bd1-e8b1077e15c1",
   "metadata": {},
   "source": [
    "### Electronic accessories"
   ]
  },
  {
   "cell_type": "code",
   "execution_count": 29,
   "id": "58f3db25-3d2a-4363-b593-0c541d566fc1",
   "metadata": {
    "tags": []
   },
   "outputs": [
    {
     "data": {
      "text/plain": [
       "971"
      ]
     },
     "execution_count": 29,
     "metadata": {},
     "output_type": "execute_result"
    }
   ],
   "source": [
    "electronic_units = sum(df['Quantity'][df['Product line'] == 'Electronic accessories'])\n",
    "\n",
    "electronic_units"
   ]
  },
  {
   "cell_type": "markdown",
   "id": "c1f37f01-6f4e-433f-b2c0-f5f91fb6c28d",
   "metadata": {},
   "source": [
    "#### We sold 971 units in the electronic accessories product line"
   ]
  },
  {
   "cell_type": "markdown",
   "id": "b55d2f9a-ea60-43c3-9f9a-e1926aff166c",
   "metadata": {},
   "source": [
    "### Home and lifestyle"
   ]
  },
  {
   "cell_type": "code",
   "execution_count": 30,
   "id": "50efc7ec-3a64-4ea6-a88b-ae6ac698cd66",
   "metadata": {
    "tags": []
   },
   "outputs": [
    {
     "data": {
      "text/plain": [
       "911"
      ]
     },
     "execution_count": 30,
     "metadata": {},
     "output_type": "execute_result"
    }
   ],
   "source": [
    "home_and_lifestyle_units = sum(df['Quantity'][df['Product line'] == 'Home and lifestyle'])\n",
    "\n",
    "home_and_lifestyle_units"
   ]
  },
  {
   "cell_type": "markdown",
   "id": "250083dc-59e5-45b0-9900-e27d19fd3827",
   "metadata": {},
   "source": [
    "#### We sold 911 units in the home and lifestyle product line"
   ]
  },
  {
   "cell_type": "markdown",
   "id": "8963df9d-9c54-48da-8c4e-df200d51c168",
   "metadata": {},
   "source": [
    "### Sports and travel"
   ]
  },
  {
   "cell_type": "code",
   "execution_count": 31,
   "id": "bafff81c-67fc-42a5-940d-df1a29fe0cf2",
   "metadata": {
    "tags": []
   },
   "outputs": [
    {
     "data": {
      "text/plain": [
       "920"
      ]
     },
     "execution_count": 31,
     "metadata": {},
     "output_type": "execute_result"
    }
   ],
   "source": [
    "sports_and_travel_units = sum(df['Quantity'][df['Product line'] == 'Sports and travel'])\n",
    "\n",
    "sports_and_travel_units"
   ]
  },
  {
   "cell_type": "markdown",
   "id": "913ccb06-3b1c-43f4-b893-f7af7c67c6ec",
   "metadata": {},
   "source": [
    "#### We sold 920 units in the sports and lifestyle product line"
   ]
  },
  {
   "cell_type": "markdown",
   "id": "021e2aac-fa1c-49fb-8b61-61b682909b83",
   "metadata": {},
   "source": [
    "### Food and beverages"
   ]
  },
  {
   "cell_type": "code",
   "execution_count": 32,
   "id": "fa883816-cb79-4258-8578-70eb92ebe049",
   "metadata": {
    "tags": []
   },
   "outputs": [
    {
     "data": {
      "text/plain": [
       "952"
      ]
     },
     "execution_count": 32,
     "metadata": {},
     "output_type": "execute_result"
    }
   ],
   "source": [
    "food_and_beverages_units = sum(df['Quantity'][df['Product line'] == 'Food and beverages'])\n",
    "\n",
    "food_and_beverages_units"
   ]
  },
  {
   "cell_type": "markdown",
   "id": "e60576a8-f1d6-4254-8720-3956aaf9bace",
   "metadata": {},
   "source": [
    "#### We sold 952 units in the food and beverages product line"
   ]
  },
  {
   "cell_type": "markdown",
   "id": "70155ef2-6330-49e6-bc5c-0152c298cd77",
   "metadata": {},
   "source": [
    "### Fashion accessories"
   ]
  },
  {
   "cell_type": "code",
   "execution_count": 33,
   "id": "b1282e62-a6e8-412c-85c7-d31b7f7c57ba",
   "metadata": {
    "tags": []
   },
   "outputs": [
    {
     "data": {
      "text/plain": [
       "902"
      ]
     },
     "execution_count": 33,
     "metadata": {},
     "output_type": "execute_result"
    }
   ],
   "source": [
    "fashion_accessories_units = sum(df['Quantity'][df['Product line'] == 'Fashion accessories'])\n",
    "\n",
    "fashion_accessories_units"
   ]
  },
  {
   "cell_type": "markdown",
   "id": "4866c734-3a1e-4f63-9c34-1899711ceb05",
   "metadata": {},
   "source": [
    "#### We sold 902 units in the fashion accessories product line"
   ]
  },
  {
   "cell_type": "markdown",
   "id": "54e22025-d12c-4ee7-9911-96dff3047a75",
   "metadata": {},
   "source": [
    "### Visualization"
   ]
  },
  {
   "cell_type": "code",
   "execution_count": 39,
   "id": "e6a80437-27b1-4ac4-9c63-e8408baf6bb1",
   "metadata": {
    "tags": []
   },
   "outputs": [
    {
     "data": {
      "text/plain": [
       "<Figure size 900x800 with 0 Axes>"
      ]
     },
     "metadata": {},
     "output_type": "display_data"
    }
   ],
   "source": [
    "data_for_fig2 = {\n",
    "    'Health and beauty': 854,\n",
    "    'Electronic accessories': 971,\n",
    "    'Home and lifestyle': 911,\n",
    "    'Sports and travel': 920,\n",
    "    'Food and beverages': 952,\n",
    "    'Fashion accessories': 902\n",
    "}\n",
    "\n",
    "fig2_x = list(data_for_fig2.keys())\n",
    "fig2_y = list(data_for_fig2.values())\n",
    "\n",
    "# Creating a new figure\n",
    "\n",
    "fig2 = plt.figure(figsize = (9,8))"
   ]
  },
  {
   "cell_type": "code",
   "execution_count": 40,
   "id": "e6263b7f-ee47-428e-92ea-8a2bc479834b",
   "metadata": {
    "tags": []
   },
   "outputs": [
    {
     "data": {
      "text/plain": [
       "Text(0.5, 1.05, 'Number of units sold for each product line')"
      ]
     },
     "execution_count": 40,
     "metadata": {},
     "output_type": "execute_result"
    },
    {
     "data": {
      "image/png": "[encoded data removed]",
      "text/plain": [
       "<Figure size 640x480 with 1 Axes>"
      ]
     },
     "metadata": {},
     "output_type": "display_data"
    }
   ],
   "source": [
    "plt.bar(fig2_x, fig2_y, color = '#009FBD', width = 0.4)\n",
    "plt.tick_params(axis = 'x', labelrotation = 90)\n",
    "plt.title(\"Number of units sold for each product line\", y=1.05)"
   ]
  },
  {
   "cell_type": "markdown",
   "id": "3e84910f-d313-4da7-9ce4-82f043acd5a6",
   "metadata": {},
   "source": [
    "## 9- The total taxes that the supermarket needs to pay to government"
   ]
  },
  {
   "cell_type": "markdown",
   "id": "04dce5be-2efc-4d8b-abbe-3e1dd04119e8",
   "metadata": {},
   "source": [
    "This will be done by calculating the sum of the \"Tax 5%\" column"
   ]
  },
  {
   "cell_type": "code",
   "execution_count": 46,
   "id": "69a49a99-bc9c-48f9-b6d8-e22f6f6ad7b6",
   "metadata": {
    "tags": []
   },
   "outputs": [
    {
     "data": {
      "text/plain": [
       "15379.369000000002"
      ]
     },
     "execution_count": 46,
     "metadata": {},
     "output_type": "execute_result"
    }
   ],
   "source": [
    "total_taxes = sum(df[\"Tax 5%\"])\n",
    "\n",
    "total_taxes"
   ]
  },
  {
   "cell_type": "markdown",
   "id": "9168f1e3-a263-47ac-b433-56a2c5b0598e",
   "metadata": {},
   "source": [
    "**From the previous output we found that the supermarket should pay about $15379 as taxes to the government**"
   ]
  },
  {
   "cell_type": "markdown",
   "id": "6be7f291-13f0-459b-80b7-1554e8c24967",
   "metadata": {},
   "source": [
    "## 10- What is the most used payment method?"
   ]
  },
  {
   "cell_type": "markdown",
   "id": "b5747968-21a2-4684-8558-c65bf4ce9070",
   "metadata": {},
   "source": [
    "### Knowing what payment methods we have"
   ]
  },
  {
   "cell_type": "code",
   "execution_count": 47,
   "id": "a507ac4b-fdd4-4087-ab26-4a75f734a01a",
   "metadata": {
    "tags": []
   },
   "outputs": [
    {
     "data": {
      "text/plain": [
       "array(['Ewallet', 'Cash', 'Credit card'], dtype=object)"
      ]
     },
     "execution_count": 47,
     "metadata": {},
     "output_type": "execute_result"
    }
   ],
   "source": [
    "df[\"Payment\"].unique()"
   ]
  },
  {
   "cell_type": "markdown",
   "id": "4dc97662-b404-4032-91f1-76c88da02327",
   "metadata": {},
   "source": [
    "**So the supermarket has three payment methods**\n",
    "* Cash\n",
    "* Credit Card\n",
    "* Ewallet"
   ]
  },
  {
   "cell_type": "markdown",
   "id": "aa5d2307-b406-40b0-9c59-dee4706b022b",
   "metadata": {},
   "source": [
    "### Calculating how many times each method has been used"
   ]
  },
  {
   "cell_type": "code",
   "execution_count": 49,
   "id": "d91509d8-b6d2-4b13-9e80-5c47c6fec6d7",
   "metadata": {
    "tags": []
   },
   "outputs": [
    {
     "data": {
      "text/plain": [
       "Ewallet        345\n",
       "Cash           344\n",
       "Credit card    311\n",
       "Name: Payment, dtype: int64"
      ]
     },
     "execution_count": 49,
     "metadata": {},
     "output_type": "execute_result"
    }
   ],
   "source": [
    "df[\"Payment\"].value_counts()"
   ]
  },
  {
   "cell_type": "markdown",
   "id": "0f4cea60-db61-4d93-9abe-38e14212a557",
   "metadata": {},
   "source": [
    "**From the previous output we found that**\n",
    "* Ewallet is the most used payment method. It has been used 345 times.\n",
    "* Cash is in the second place. It has been used 344 times.\n",
    "* Credit card is in the third place. It has been used 311 times."
   ]
  },
  {
   "cell_type": "markdown",
   "id": "5e34ffdf-a154-452f-a034-252b00d4688d",
   "metadata": {},
   "source": [
    "### Visualization"
   ]
  },
  {
   "cell_type": "code",
   "execution_count": 54,
   "id": "0b6c4ad2-db21-475e-9235-1b8685d34df1",
   "metadata": {
    "tags": []
   },
   "outputs": [
    {
     "data": {
      "text/plain": [
       "<Figure size 900x800 with 0 Axes>"
      ]
     },
     "metadata": {},
     "output_type": "display_data"
    }
   ],
   "source": [
    "data_for_fig4 = {\n",
    "    'Ewallet': 345,\n",
    "    'Cash': 344,\n",
    "    'Credit card': 311\n",
    "}\n",
    "\n",
    "fig4_x = list(data_for_fig4.keys())\n",
    "fig4_y = list(data_for_fig4.values())\n",
    "\n",
    "# Creating a new figure\n",
    "\n",
    "fig2 = plt.figure(figsize = (9,8))"
   ]
  },
  {
   "cell_type": "code",
   "execution_count": 55,
   "id": "c6c4cb37-4c2c-4f43-9dbe-eac4262150a0",
   "metadata": {
    "tags": []
   },
   "outputs": [
    {
     "data": {
      "text/plain": [
       "Text(0.5, 1.05, 'Number of units sold for each product line')"
      ]
     },
     "execution_count": 55,
     "metadata": {},
     "output_type": "execute_result"
    },
    {
     "data": {
      "image/png": "[encoded data removed]",
      "text/plain": [
       "<Figure size 640x480 with 1 Axes>"
      ]
     },
     "metadata": {},
     "output_type": "display_data"
    }
   ],
   "source": [
    "plt.bar(fig4_x, fig4_y, color = '#7149C6', width = 0.4)\n",
    "plt.tick_params(axis = 'x', labelrotation = 90)\n",
    "plt.title(\"Number of units sold for each product line\", y=1.05)"
   ]
  },
  {
   "cell_type": "markdown",
   "id": "2ce5883a-dd4d-49b3-83e5-127166361947",
   "metadata": {},
   "source": [
    "## 11- The total cogs that we spent"
   ]
  },
  {
   "cell_type": "code",
   "execution_count": 58,
   "id": "3f7bd2e0-91b8-491e-8160-928d380a4cba",
   "metadata": {
    "tags": []
   },
   "outputs": [
    {
     "data": {
      "text/plain": [
       "307587.38000000035"
      ]
     },
     "execution_count": 58,
     "metadata": {},
     "output_type": "execute_result"
    }
   ],
   "source": [
    "total_cogs = sum(df.cogs)\n",
    "\n",
    "total_cogs"
   ]
  },
  {
   "cell_type": "markdown",
   "id": "5d1dc43c-9a34-466f-9b56-6ab3f48c9329",
   "metadata": {},
   "source": [
    "**We found that the total cogs equals about $307587**"
   ]
  },
  {
   "cell_type": "markdown",
   "id": "936720c4-a749-45b9-8e52-d0cb5b7348ee",
   "metadata": {},
   "source": [
    "## 12- The total gross income we earned"
   ]
  },
  {
   "cell_type": "code",
   "execution_count": 59,
   "id": "462ef8e7-4f3a-4ace-b0c7-6af7edb965a1",
   "metadata": {
    "tags": []
   },
   "outputs": [
    {
     "data": {
      "text/plain": [
       "15379.369000000002"
      ]
     },
     "execution_count": 59,
     "metadata": {},
     "output_type": "execute_result"
    }
   ],
   "source": [
    "total_gross_income = sum(df['gross income'])\n",
    "\n",
    "total_gross_income"
   ]
  },
  {
   "cell_type": "markdown",
   "id": "e20dcff8-9635-4be5-8616-d946732b1f44",
   "metadata": {},
   "source": [
    "**The total gross income we earned equals about $15379**"
   ]
  },
  {
   "cell_type": "markdown",
   "id": "5a04ea3b-abe0-454f-9453-e1ef8f9d2059",
   "metadata": {},
   "source": [
    "## 13- The average customer rating"
   ]
  },
  {
   "cell_type": "code",
   "execution_count": 62,
   "id": "cda2b07a-84cf-478c-a63a-6e6decb09fb0",
   "metadata": {
    "tags": []
   },
   "outputs": [
    {
     "data": {
      "text/plain": [
       "7"
      ]
     },
     "execution_count": 62,
     "metadata": {},
     "output_type": "execute_result"
    }
   ],
   "source": [
    "average_customer_rating = round(df.Rating.mean())\n",
    "\n",
    "average_customer_rating"
   ]
  },
  {
   "cell_type": "markdown",
   "id": "36027afd-adc1-4b9c-a4de-8a6a33be1f79",
   "metadata": {},
   "source": [
    "**From the previous result we found that the average customer rating is about 7**"
   ]
  },
  {
   "cell_type": "markdown",
   "id": "e97fe21f-c242-4266-b378-b349d6a9115d",
   "metadata": {},
   "source": [
    "----------------------------------------------------------------------------------\n",
    "**So now we finished the analysis process for the supermarket**\n",
    "\n",
    "#### Made by: Khaled Amir"
   ]
  }
 ],
 "metadata": {
  "kernelspec": {
   "display_name": "Python 3 (ipykernel)",
   "language": "python",
   "name": "python3"
  },
  "language_info": {
   "codemirror_mode": {
    "name": "ipython",
    "version": 3
   },
   "file_extension": ".py",
   "mimetype": "text/x-python",
   "name": "python",
   "nbconvert_exporter": "python",
   "pygments_lexer": "ipython3",
   "version": "3.11.2"
  }
 },
 "nbformat": 4,
 "nbformat_minor": 5
}
